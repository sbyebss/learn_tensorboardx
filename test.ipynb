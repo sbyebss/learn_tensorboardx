{
 "nbformat": 4,
 "nbformat_minor": 2,
 "metadata": {
  "language_info": {
   "name": "python",
   "codemirror_mode": {
    "name": "ipython",
    "version": 3
   }
  },
  "orig_nbformat": 2,
  "file_extension": ".py",
  "mimetype": "text/x-python",
  "name": "python",
  "npconvert_exporter": "python",
  "pygments_lexer": "ipython3",
  "version": 3,
  "kernelspec": {
   "name": "python37564bitenv01condaaac79869c4434e54ab3ca814b36201db",
   "display_name": "Python 3.7.5 64-bit ('env-01': conda)"
  }
 },
 "cells": [
  {
   "cell_type": "code",
   "execution_count": 1,
   "metadata": {},
   "outputs": [],
   "source": [
    "# imports\n",
    "import matplotlib.pyplot as plt\n",
    "import numpy as np\n",
    "\n",
    "import torch\n",
    "import torchvision\n",
    "import torchvision.transforms as transforms\n",
    "\n",
    "import torch.nn as nn\n",
    "import torch.nn.functional as F\n",
    "import torch.optim as optim\n",
    "\n",
    "# transforms\n",
    "transform = transforms.Compose(\n",
    "    [transforms.ToTensor(),\n",
    "    transforms.Normalize((0.5,), (0.5,))])\n",
    "\n",
    "# datasets\n",
    "trainset = torchvision.datasets.FashionMNIST('./data',\n",
    "    download=True,\n",
    "    train=True,\n",
    "    transform=transform)\n",
    "testset = torchvision.datasets.FashionMNIST('./data',\n",
    "    download=True,\n",
    "    train=False,\n",
    "    transform=transform)\n",
    "\n",
    "# dataloaders\n",
    "trainloader = torch.utils.data.DataLoader(trainset, batch_size=4,\n",
    "                                        shuffle=True, num_workers=2)\n",
    "\n",
    "\n",
    "testloader = torch.utils.data.DataLoader(testset, batch_size=4,\n",
    "                                        shuffle=False, num_workers=2)\n",
    "\n",
    "# constant for classes\n",
    "classes = ('T-shirt/top', 'Trouser', 'Pullover', 'Dress', 'Coat',\n",
    "        'Sandal', 'Shirt', 'Sneaker', 'Bag', 'Ankle Boot')\n",
    "\n",
    "# helper function to show an image\n",
    "# (used in the `plot_classes_preds` function below)\n",
    "def matplotlib_imshow(img, one_channel=False):\n",
    "    if one_channel:\n",
    "        img = img.mean(dim=0)\n",
    "    img = img / 2 + 0.5     # unnormalize\n",
    "    npimg = img.numpy()\n",
    "    if one_channel:\n",
    "        plt.imshow(npimg, cmap=\"Greys\")\n",
    "    else:\n",
    "        plt.imshow(np.transpose(npimg, (1, 2, 0)))"
   ]
  },
  {
   "cell_type": "code",
   "execution_count": 2,
   "metadata": {},
   "outputs": [],
   "source": [
    "class Net(nn.Module):\n",
    "    def __init__(self):\n",
    "        super(Net, self).__init__()\n",
    "        self.conv1 = nn.Conv2d(1, 6, 5)\n",
    "        self.pool = nn.MaxPool2d(2, 2)\n",
    "        self.conv2 = nn.Conv2d(6, 16, 5)\n",
    "        self.fc1 = nn.Linear(16 * 4 * 4, 120)\n",
    "        self.fc2 = nn.Linear(120, 84)\n",
    "        self.fc3 = nn.Linear(84, 10)\n",
    "\n",
    "    def forward(self, x):\n",
    "        x = self.pool(F.relu(self.conv1(x)))\n",
    "        x = self.pool(F.relu(self.conv2(x)))\n",
    "        x = x.view(-1, 16 * 4 * 4)\n",
    "        x = F.relu(self.fc1(x))\n",
    "        x = F.relu(self.fc2(x))\n",
    "        x = self.fc3(x)\n",
    "        return x\n",
    "\n",
    "\n",
    "net = Net()"
   ]
  },
  {
   "cell_type": "code",
   "execution_count": 3,
   "metadata": {},
   "outputs": [],
   "source": [
    "criterion = nn.CrossEntropyLoss()\n",
    "optimizer = optim.SGD(net.parameters(), lr=0.001, momentum=0.9)"
   ]
  },
  {
   "cell_type": "code",
   "execution_count": 4,
   "metadata": {},
   "outputs": [],
   "source": [
    "from torch.utils.tensorboard import SummaryWriter\n",
    "\n",
    "# default `log_dir` is \"runs\" - we'll be more specific here\n",
    "writer = SummaryWriter('runs/fashion_mnist_experiment_1')"
   ]
  },
  {
   "cell_type": "code",
   "execution_count": 5,
   "metadata": {},
   "outputs": [
    {
     "data": {
      "image/png": "[encoded data removed]",
      "image/svg+xml": "<?xml version=\"1.0\" encoding=\"utf-8\" standalone=\"no\"?>\n<!DOCTYPE svg PUBLIC \"-//W3C//DTD SVG 1.1//EN\"\n  \"http://www.w3.org/Graphics/SVG/1.1/DTD/svg11.dtd\">\n<!-- Created with matplotlib (https://matplotlib.org/) -->\n<svg height=\"121.321606pt\" version=\"1.1\" viewBox=\"0 0 374.352357 121.321606\" width=\"374.352357pt\" xmlns=\"http://www.w3.org/2000/svg\" xmlns:xlink=\"http://www.w3.org/1999/xlink\">\n <defs>\n  <style type=\"text/css\">\n*{stroke-linecap:butt;stroke-linejoin:round;}\n  </style>\n </defs>\n <g id=\"figure_1\">\n  <g id=\"patch_1\">\n   <path d=\"M -0 121.321606 \nL 374.352357 121.321606 \nL 374.352357 0 \nL -0 0 \nz\n\" style=\"fill:none;\"/>\n  </g>\n  <g id=\"axes_1\">\n   <g id=\"patch_2\">\n    <path d=\"M 26.925 97.443481 \nL 361.725 97.443481 \nL 361.725 9.627088 \nL 26.925 9.627088 \nz\n\" style=\"fill:#ffffff;\"/>\n   </g>\n   <g clip-path=\"url(#p1046ff9cb1)\">\n    <image height=\"88\" id=\"imagedc05ef412f\" transform=\"scale(1 -1)translate(0 -88)\" width=\"335\" x=\"26.925\" xlink:href=\"data:image/png;base64,\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\" y=\"-9.443481\"/>\n   </g>\n   <g id=\"matplotlib.axis_1\">\n    <g id=\"xtick_1\">\n     <g id=\"line2d_1\">\n      <defs>\n       <path d=\"M 0 0 \nL 0 3.5 \n\" id=\"m8c1e788ef8\" style=\"stroke:#000000;stroke-width:0.8;\"/>\n      </defs>\n      <g>\n       <use style=\"stroke:#000000;stroke-width:0.8;\" x=\"28.297131\" xlink:href=\"#m8c1e788ef8\" y=\"97.443481\"/>\n      </g>\n     </g>\n     <g id=\"text_1\">\n      <!-- 0 -->\n      <defs>\n       <path d=\"M 31.78125 66.40625 \nQ 24.171875 66.40625 20.328125 58.90625 \nQ 16.5 51.421875 16.5 36.375 \nQ 16.5 21.390625 20.328125 13.890625 \nQ 24.171875 6.390625 31.78125 6.390625 \nQ 39.453125 6.390625 43.28125 13.890625 \nQ 47.125 21.390625 47.125 36.375 \nQ 47.125 51.421875 43.28125 58.90625 \nQ 39.453125 66.40625 31.78125 66.40625 \nz\nM 31.78125 74.21875 \nQ 44.046875 74.21875 50.515625 64.515625 \nQ 56.984375 54.828125 56.984375 36.375 \nQ 56.984375 17.96875 50.515625 8.265625 \nQ 44.046875 -1.421875 31.78125 -1.421875 \nQ 19.53125 -1.421875 13.0625 8.265625 \nQ 6.59375 17.96875 6.59375 36.375 \nQ 6.59375 54.828125 13.0625 64.515625 \nQ 19.53125 74.21875 31.78125 74.21875 \nz\n\" id=\"DejaVuSans-48\"/>\n      </defs>\n      <g transform=\"translate(25.115881 112.041919)scale(0.1 -0.1)\">\n       <use xlink:href=\"#DejaVuSans-48\"/>\n      </g>\n     </g>\n    </g>\n    <g id=\"xtick_2\">\n     <g id=\"line2d_2\">\n      <g>\n       <use style=\"stroke:#000000;stroke-width:0.8;\" x=\"83.182377\" xlink:href=\"#m8c1e788ef8\" y=\"97.443481\"/>\n      </g>\n     </g>\n     <g id=\"text_2\">\n      <!-- 20 -->\n      <defs>\n       <path d=\"M 19.1875 8.296875 \nL 53.609375 8.296875 \nL 53.609375 0 \nL 7.328125 0 \nL 7.328125 8.296875 \nQ 12.9375 14.109375 22.625 23.890625 \nQ 32.328125 33.6875 34.8125 36.53125 \nQ 39.546875 41.84375 41.421875 45.53125 \nQ 43.3125 49.21875 43.3125 52.78125 \nQ 43.3125 58.59375 39.234375 62.25 \nQ 35.15625 65.921875 28.609375 65.921875 \nQ 23.96875 65.921875 18.8125 64.3125 \nQ 13.671875 62.703125 7.8125 59.421875 \nL 7.8125 69.390625 \nQ 13.765625 71.78125 18.9375 73 \nQ 24.125 74.21875 28.421875 74.21875 \nQ 39.75 74.21875 46.484375 68.546875 \nQ 53.21875 62.890625 53.21875 53.421875 \nQ 53.21875 48.921875 51.53125 44.890625 \nQ 49.859375 40.875 45.40625 35.40625 \nQ 44.1875 33.984375 37.640625 27.21875 \nQ 31.109375 20.453125 19.1875 8.296875 \nz\n\" id=\"DejaVuSans-50\"/>\n      </defs>\n      <g transform=\"translate(76.819877 112.041919)scale(0.1 -0.1)\">\n       <use xlink:href=\"#DejaVuSans-50\"/>\n       <use x=\"63.623047\" xlink:href=\"#DejaVuSans-48\"/>\n      </g>\n     </g>\n    </g>\n    <g id=\"xtick_3\">\n     <g id=\"line2d_3\">\n      <g>\n       <use style=\"stroke:#000000;stroke-width:0.8;\" x=\"138.067623\" xlink:href=\"#m8c1e788ef8\" y=\"97.443481\"/>\n      </g>\n     </g>\n     <g id=\"text_3\">\n      <!-- 40 -->\n      <defs>\n       <path d=\"M 37.796875 64.3125 \nL 12.890625 25.390625 \nL 37.796875 25.390625 \nz\nM 35.203125 72.90625 \nL 47.609375 72.90625 \nL 47.609375 25.390625 \nL 58.015625 25.390625 \nL 58.015625 17.1875 \nL 47.609375 17.1875 \nL 47.609375 0 \nL 37.796875 0 \nL 37.796875 17.1875 \nL 4.890625 17.1875 \nL 4.890625 26.703125 \nz\n\" id=\"DejaVuSans-52\"/>\n      </defs>\n      <g transform=\"translate(131.705123 112.041919)scale(0.1 -0.1)\">\n       <use xlink:href=\"#DejaVuSans-52\"/>\n       <use x=\"63.623047\" xlink:href=\"#DejaVuSans-48\"/>\n      </g>\n     </g>\n    </g>\n    <g id=\"xtick_4\">\n     <g id=\"line2d_4\">\n      <g>\n       <use style=\"stroke:#000000;stroke-width:0.8;\" x=\"192.952869\" xlink:href=\"#m8c1e788ef8\" y=\"97.443481\"/>\n      </g>\n     </g>\n     <g id=\"text_4\">\n      <!-- 60 -->\n      <defs>\n       <path d=\"M 33.015625 40.375 \nQ 26.375 40.375 22.484375 35.828125 \nQ 18.609375 31.296875 18.609375 23.390625 \nQ 18.609375 15.53125 22.484375 10.953125 \nQ 26.375 6.390625 33.015625 6.390625 \nQ 39.65625 6.390625 43.53125 10.953125 \nQ 47.40625 15.53125 47.40625 23.390625 \nQ 47.40625 31.296875 43.53125 35.828125 \nQ 39.65625 40.375 33.015625 40.375 \nz\nM 52.59375 71.296875 \nL 52.59375 62.3125 \nQ 48.875 64.0625 45.09375 64.984375 \nQ 41.3125 65.921875 37.59375 65.921875 \nQ 27.828125 65.921875 22.671875 59.328125 \nQ 17.53125 52.734375 16.796875 39.40625 \nQ 19.671875 43.65625 24.015625 45.921875 \nQ 28.375 48.1875 33.59375 48.1875 \nQ 44.578125 48.1875 50.953125 41.515625 \nQ 57.328125 34.859375 57.328125 23.390625 \nQ 57.328125 12.15625 50.6875 5.359375 \nQ 44.046875 -1.421875 33.015625 -1.421875 \nQ 20.359375 -1.421875 13.671875 8.265625 \nQ 6.984375 17.96875 6.984375 36.375 \nQ 6.984375 53.65625 15.1875 63.9375 \nQ 23.390625 74.21875 37.203125 74.21875 \nQ 40.921875 74.21875 44.703125 73.484375 \nQ 48.484375 72.75 52.59375 71.296875 \nz\n\" id=\"DejaVuSans-54\"/>\n      </defs>\n      <g transform=\"translate(186.590369 112.041919)scale(0.1 -0.1)\">\n       <use xlink:href=\"#DejaVuSans-54\"/>\n       <use x=\"63.623047\" xlink:href=\"#DejaVuSans-48\"/>\n      </g>\n     </g>\n    </g>\n    <g id=\"xtick_5\">\n     <g id=\"line2d_5\">\n      <g>\n       <use style=\"stroke:#000000;stroke-width:0.8;\" x=\"247.838115\" xlink:href=\"#m8c1e788ef8\" y=\"97.443481\"/>\n      </g>\n     </g>\n     <g id=\"text_5\">\n      <!-- 80 -->\n      <defs>\n       <path d=\"M 31.78125 34.625 \nQ 24.75 34.625 20.71875 30.859375 \nQ 16.703125 27.09375 16.703125 20.515625 \nQ 16.703125 13.921875 20.71875 10.15625 \nQ 24.75 6.390625 31.78125 6.390625 \nQ 38.8125 6.390625 42.859375 10.171875 \nQ 46.921875 13.96875 46.921875 20.515625 \nQ 46.921875 27.09375 42.890625 30.859375 \nQ 38.875 34.625 31.78125 34.625 \nz\nM 21.921875 38.8125 \nQ 15.578125 40.375 12.03125 44.71875 \nQ 8.5 49.078125 8.5 55.328125 \nQ 8.5 64.0625 14.71875 69.140625 \nQ 20.953125 74.21875 31.78125 74.21875 \nQ 42.671875 74.21875 48.875 69.140625 \nQ 55.078125 64.0625 55.078125 55.328125 \nQ 55.078125 49.078125 51.53125 44.71875 \nQ 48 40.375 41.703125 38.8125 \nQ 48.828125 37.15625 52.796875 32.3125 \nQ 56.78125 27.484375 56.78125 20.515625 \nQ 56.78125 9.90625 50.3125 4.234375 \nQ 43.84375 -1.421875 31.78125 -1.421875 \nQ 19.734375 -1.421875 13.25 4.234375 \nQ 6.78125 9.90625 6.78125 20.515625 \nQ 6.78125 27.484375 10.78125 32.3125 \nQ 14.796875 37.15625 21.921875 38.8125 \nz\nM 18.3125 54.390625 \nQ 18.3125 48.734375 21.84375 45.5625 \nQ 25.390625 42.390625 31.78125 42.390625 \nQ 38.140625 42.390625 41.71875 45.5625 \nQ 45.3125 48.734375 45.3125 54.390625 \nQ 45.3125 60.0625 41.71875 63.234375 \nQ 38.140625 66.40625 31.78125 66.40625 \nQ 25.390625 66.40625 21.84375 63.234375 \nQ 18.3125 60.0625 18.3125 54.390625 \nz\n\" id=\"DejaVuSans-56\"/>\n      </defs>\n      <g transform=\"translate(241.475615 112.041919)scale(0.1 -0.1)\">\n       <use xlink:href=\"#DejaVuSans-56\"/>\n       <use x=\"63.623047\" xlink:href=\"#DejaVuSans-48\"/>\n      </g>\n     </g>\n    </g>\n    <g id=\"xtick_6\">\n     <g id=\"line2d_6\">\n      <g>\n       <use style=\"stroke:#000000;stroke-width:0.8;\" x=\"302.723361\" xlink:href=\"#m8c1e788ef8\" y=\"97.443481\"/>\n      </g>\n     </g>\n     <g id=\"text_6\">\n      <!-- 100 -->\n      <defs>\n       <path d=\"M 12.40625 8.296875 \nL 28.515625 8.296875 \nL 28.515625 63.921875 \nL 10.984375 60.40625 \nL 10.984375 69.390625 \nL 28.421875 72.90625 \nL 38.28125 72.90625 \nL 38.28125 8.296875 \nL 54.390625 8.296875 \nL 54.390625 0 \nL 12.40625 0 \nz\n\" id=\"DejaVuSans-49\"/>\n      </defs>\n      <g transform=\"translate(293.179611 112.041919)scale(0.1 -0.1)\">\n       <use xlink:href=\"#DejaVuSans-49\"/>\n       <use x=\"63.623047\" xlink:href=\"#DejaVuSans-48\"/>\n       <use x=\"127.246094\" xlink:href=\"#DejaVuSans-48\"/>\n      </g>\n     </g>\n    </g>\n    <g id=\"xtick_7\">\n     <g id=\"line2d_7\">\n      <g>\n       <use style=\"stroke:#000000;stroke-width:0.8;\" x=\"357.608607\" xlink:href=\"#m8c1e788ef8\" y=\"97.443481\"/>\n      </g>\n     </g>\n     <g id=\"text_7\">\n      <!-- 120 -->\n      <g transform=\"translate(348.064857 112.041919)scale(0.1 -0.1)\">\n       <use xlink:href=\"#DejaVuSans-49\"/>\n       <use x=\"63.623047\" xlink:href=\"#DejaVuSans-50\"/>\n       <use x=\"127.246094\" xlink:href=\"#DejaVuSans-48\"/>\n      </g>\n     </g>\n    </g>\n   </g>\n   <g id=\"matplotlib.axis_2\">\n    <g id=\"ytick_1\">\n     <g id=\"line2d_8\">\n      <defs>\n       <path d=\"M 0 0 \nL -3.5 0 \n\" id=\"ma4e06da281\" style=\"stroke:#000000;stroke-width:0.8;\"/>\n      </defs>\n      <g>\n       <use style=\"stroke:#000000;stroke-width:0.8;\" x=\"26.925\" xlink:href=\"#ma4e06da281\" y=\"10.999219\"/>\n      </g>\n     </g>\n     <g id=\"text_8\">\n      <!-- 0 -->\n      <g transform=\"translate(13.5625 14.798437)scale(0.1 -0.1)\">\n       <use xlink:href=\"#DejaVuSans-48\"/>\n      </g>\n     </g>\n    </g>\n    <g id=\"ytick_2\">\n     <g id=\"line2d_9\">\n      <g>\n       <use style=\"stroke:#000000;stroke-width:0.8;\" x=\"26.925\" xlink:href=\"#ma4e06da281\" y=\"38.441842\"/>\n      </g>\n     </g>\n     <g id=\"text_9\">\n      <!-- 10 -->\n      <g transform=\"translate(7.2 42.24106)scale(0.1 -0.1)\">\n       <use xlink:href=\"#DejaVuSans-49\"/>\n       <use x=\"63.623047\" xlink:href=\"#DejaVuSans-48\"/>\n      </g>\n     </g>\n    </g>\n    <g id=\"ytick_3\">\n     <g id=\"line2d_10\">\n      <g>\n       <use style=\"stroke:#000000;stroke-width:0.8;\" x=\"26.925\" xlink:href=\"#ma4e06da281\" y=\"65.884465\"/>\n      </g>\n     </g>\n     <g id=\"text_10\">\n      <!-- 20 -->\n      <g transform=\"translate(7.2 69.683683)scale(0.1 -0.1)\">\n       <use xlink:href=\"#DejaVuSans-50\"/>\n       <use x=\"63.623047\" xlink:href=\"#DejaVuSans-48\"/>\n      </g>\n     </g>\n    </g>\n    <g id=\"ytick_4\">\n     <g id=\"line2d_11\">\n      <g>\n       <use style=\"stroke:#000000;stroke-width:0.8;\" x=\"26.925\" xlink:href=\"#ma4e06da281\" y=\"93.327088\"/>\n      </g>\n     </g>\n     <g id=\"text_11\">\n      <!-- 30 -->\n      <defs>\n       <path d=\"M 40.578125 39.3125 \nQ 47.65625 37.796875 51.625 33 \nQ 55.609375 28.21875 55.609375 21.1875 \nQ 55.609375 10.40625 48.1875 4.484375 \nQ 40.765625 -1.421875 27.09375 -1.421875 \nQ 22.515625 -1.421875 17.65625 -0.515625 \nQ 12.796875 0.390625 7.625 2.203125 \nL 7.625 11.71875 \nQ 11.71875 9.328125 16.59375 8.109375 \nQ 21.484375 6.890625 26.8125 6.890625 \nQ 36.078125 6.890625 40.9375 10.546875 \nQ 45.796875 14.203125 45.796875 21.1875 \nQ 45.796875 27.640625 41.28125 31.265625 \nQ 36.765625 34.90625 28.71875 34.90625 \nL 20.21875 34.90625 \nL 20.21875 43.015625 \nL 29.109375 43.015625 \nQ 36.375 43.015625 40.234375 45.921875 \nQ 44.09375 48.828125 44.09375 54.296875 \nQ 44.09375 59.90625 40.109375 62.90625 \nQ 36.140625 65.921875 28.71875 65.921875 \nQ 24.65625 65.921875 20.015625 65.03125 \nQ 15.375 64.15625 9.8125 62.3125 \nL 9.8125 71.09375 \nQ 15.4375 72.65625 20.34375 73.4375 \nQ 25.25 74.21875 29.59375 74.21875 \nQ 40.828125 74.21875 47.359375 69.109375 \nQ 53.90625 64.015625 53.90625 55.328125 \nQ 53.90625 49.265625 50.4375 45.09375 \nQ 46.96875 40.921875 40.578125 39.3125 \nz\n\" id=\"DejaVuSans-51\"/>\n      </defs>\n      <g transform=\"translate(7.2 97.126306)scale(0.1 -0.1)\">\n       <use xlink:href=\"#DejaVuSans-51\"/>\n       <use x=\"63.623047\" xlink:href=\"#DejaVuSans-48\"/>\n      </g>\n     </g>\n    </g>\n   </g>\n   <g id=\"patch_3\">\n    <path d=\"M 26.925 97.443481 \nL 26.925 9.627088 \n\" style=\"fill:none;stroke:#000000;stroke-linecap:square;stroke-linejoin:miter;stroke-width:0.8;\"/>\n   </g>\n   <g id=\"patch_4\">\n    <path d=\"M 361.725 97.443481 \nL 361.725 9.627088 \n\" style=\"fill:none;stroke:#000000;stroke-linecap:square;stroke-linejoin:miter;stroke-width:0.8;\"/>\n   </g>\n   <g id=\"patch_5\">\n    <path d=\"M 26.925 97.443481 \nL 361.725 97.443481 \n\" style=\"fill:none;stroke:#000000;stroke-linecap:square;stroke-linejoin:miter;stroke-width:0.8;\"/>\n   </g>\n   <g id=\"patch_6\">\n    <path d=\"M 26.925 9.627088 \nL 361.725 9.627088 \n\" style=\"fill:none;stroke:#000000;stroke-linecap:square;stroke-linejoin:miter;stroke-width:0.8;\"/>\n   </g>\n  </g>\n </g>\n <defs>\n  <clipPath id=\"p1046ff9cb1\">\n   <rect height=\"87.816393\" width=\"334.8\" x=\"26.925\" y=\"9.627088\"/>\n  </clipPath>\n </defs>\n</svg>\n",
      "text/plain": "<Figure size 432x288 with 1 Axes>"
     },
     "metadata": {
      "needs_background": "light"
     },
     "output_type": "display_data"
    }
   ],
   "source": [
    "# get some random training images\n",
    "dataiter = iter(trainloader)\n",
    "images, labels = dataiter.next()\n",
    "\n",
    "# create grid of images\n",
    "img_grid = torchvision.utils.make_grid(images)\n",
    "\n",
    "# show images\n",
    "matplotlib_imshow(img_grid, one_channel=True)\n",
    "\n",
    "# write to tensorboard\n",
    "writer.add_image('four_fashion_mnist_images', img_grid)"
   ]
  },
  {
   "cell_type": "code",
   "execution_count": 6,
   "metadata": {},
   "outputs": [
    {
     "name": "stdout",
     "output_type": "stream",
     "text": "TensorFlow installation not found - running with reduced feature set.\nW0301 14:42:45.706369 140305289025280 plugin_event_accumulator.py:294] Found more than one graph event per run, or there was a metagraph containing a graph_def, as well as one or more graph events.  Overwriting the graph with the newest event.\nW0301 14:42:45.706498 140305289025280 plugin_event_accumulator.py:322] Found more than one \"run metadata\" event with tag step1. Overwriting it with the newest event.\nW0301 14:42:45.709734 140305289025280 plugin_event_accumulator.py:294] Found more than one graph event per run, or there was a metagraph containing a graph_def, as well as one or more graph events.  Overwriting the graph with the newest event.\nW0301 14:42:45.709843 140305289025280 plugin_event_accumulator.py:322] Found more than one \"run metadata\" event with tag step1. Overwriting it with the newest event.\nW0301 14:42:45.712499 140305289025280 plugin_event_accumulator.py:294] Found more than one graph event per run, or there was a metagraph containing a graph_def, as well as one or more graph events.  Overwriting the graph with the newest event.\nW0301 14:42:45.712621 140305289025280 plugin_event_accumulator.py:322] Found more than one \"run metadata\" event with tag step1. Overwriting it with the newest event.\nW0301 14:42:45.715199 140305289025280 plugin_event_accumulator.py:294] Found more than one graph event per run, or there was a metagraph containing a graph_def, as well as one or more graph events.  Overwriting the graph with the newest event.\nW0301 14:42:45.715276 140305289025280 plugin_event_accumulator.py:322] Found more than one \"run metadata\" event with tag step1. Overwriting it with the newest event.\nServing TensorBoard on localhost; to expose to the network, use a proxy or pass --bind_all\nTensorBoard 2.1.0 at http://localhost:6006/ (Press CTRL+C to quit)\n"
    }
   ],
   "source": [
    "! tensorboard --logdir=runs"
   ]
  },
  {
   "cell_type": "code",
   "execution_count": null,
   "metadata": {},
   "outputs": [],
   "source": [
    "writer.add_graph(net, images)\n",
    "writer.close()"
   ]
  },
  {
   "cell_type": "code",
   "execution_count": null,
   "metadata": {},
   "outputs": [],
   "source": [
    "# helper function\n",
    "def select_n_random(data, labels, n=100):\n",
    "    '''\n",
    "    Selects n random datapoints and their corresponding labels from a dataset\n",
    "    '''\n",
    "    assert len(data) == len(labels)\n",
    "\n",
    "    perm = torch.randperm(len(data))\n",
    "    return data[perm][:n], labels[perm][:n]\n",
    "\n",
    "# select random images and their target indices\n",
    "images, labels = select_n_random(trainset.data, trainset.targets)\n",
    "\n",
    "# get the class labels for each image\n",
    "class_labels = [classes[lab] for lab in labels]\n",
    "\n",
    "# log embeddings\n",
    "features = images.view(-1, 28 * 28)\n",
    "writer.add_embedding(features,\n",
    "                    metadata=class_labels,\n",
    "                    label_img=images.unsqueeze(1))\n",
    "writer.close()"
   ]
  },
  {
   "cell_type": "code",
   "execution_count": null,
   "metadata": {},
   "outputs": [],
   "source": [
    "# helper functions\n",
    "\n",
    "def images_to_probs(net, images):\n",
    "    '''\n",
    "    Generates predictions and corresponding probabilities from a trained\n",
    "    network and a list of images\n",
    "    '''\n",
    "    output = net(images)\n",
    "    # convert output probabilities to predicted class\n",
    "    _, preds_tensor = torch.max(output, 1)\n",
    "    preds = np.squeeze(preds_tensor.numpy())\n",
    "    return preds, [F.softmax(el, dim=0)[i].item() for i, el in zip(preds, output)]\n",
    "\n",
    "\n",
    "def plot_classes_preds(net, images, labels):\n",
    "    '''\n",
    "    Generates matplotlib Figure using a trained network, along with images\n",
    "    and labels from a batch, that shows the network's top prediction along\n",
    "    with its probability, alongside the actual label, coloring this\n",
    "    information based on whether the prediction was correct or not.\n",
    "    Uses the \"images_to_probs\" function.\n",
    "    '''\n",
    "    preds, probs = images_to_probs(net, images)\n",
    "    # plot the images in the batch, along with predicted and true labels\n",
    "    fig = plt.figure(figsize=(12, 48))\n",
    "    for idx in np.arange(4):\n",
    "        ax = fig.add_subplot(1, 4, idx+1, xticks=[], yticks=[])\n",
    "        matplotlib_imshow(images[idx], one_channel=True)\n",
    "        ax.set_title(\"{0}, {1:.1f}%\\n(label: {2})\".format(\n",
    "            classes[preds[idx]],\n",
    "            probs[idx] * 100.0,\n",
    "            classes[labels[idx]]),\n",
    "                    color=(\"green\" if preds[idx]==labels[idx].item() else \"red\"))\n",
    "    return fig"
   ]
  },
  {
   "cell_type": "code",
   "execution_count": null,
   "metadata": {},
   "outputs": [],
   "source": [
    "running_loss = 0.0\n",
    "for epoch in range(1):  # loop over the dataset multiple times\n",
    "\n",
    "    for i, data in enumerate(trainloader, 0):\n",
    "\n",
    "        # get the inputs; data is a list of [inputs, labels]\n",
    "        inputs, labels = data\n",
    "\n",
    "        # zero the parameter gradients\n",
    "        optimizer.zero_grad()\n",
    "\n",
    "        # forward + backward + optimize\n",
    "        outputs = net(inputs)\n",
    "        loss = criterion(outputs, labels)\n",
    "        loss.backward()\n",
    "        optimizer.step()\n",
    "\n",
    "        running_loss += loss.item()\n",
    "        if i % 1000 == 999:    # every 1000 mini-batches...\n",
    "\n",
    "            # ...log the running loss\n",
    "            writer.add_scalar('training loss',\n",
    "                            running_loss / 1000,\n",
    "                            epoch * len(trainloader) + i)\n",
    "\n",
    "            # ...log a Matplotlib Figure showing the model's predictions on a\n",
    "            # random mini-batch\n",
    "            writer.add_figure('predictions vs. actuals',\n",
    "                            plot_classes_preds(net, inputs, labels),\n",
    "                            global_step=epoch * len(trainloader) + i)\n",
    "            running_loss = 0.0\n",
    "print('Finished Training')"
   ]
  },
  {
   "cell_type": "code",
   "execution_count": null,
   "metadata": {},
   "outputs": [],
   "source": []
  }
 ]
}